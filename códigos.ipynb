{
  "nbformat": 4,
  "nbformat_minor": 0,
  "metadata": {
    "colab": {
      "name": "códigos.ipynb",
      "provenance": [],
      "collapsed_sections": []
    },
    "kernelspec": {
      "display_name": "Python 3",
      "name": "python3"
    }
  },
  "cells": [
    {
      "cell_type": "markdown",
      "metadata": {
        "id": "Kq1pA05dZaj4"
      },
      "source": [
        "**Ingresar el comando faltante**"
      ]
    },
    {
      "cell_type": "code",
      "metadata": {
        "id": "-m7Rzp0TZY7M"
      },
      "source": [
        ""
      ],
      "execution_count": null,
      "outputs": []
    },
    {
      "cell_type": "markdown",
      "metadata": {
        "id": "ddFJG5kRZsxR"
      },
      "source": [
        "***Importar la biblioteca de Python***"
      ]
    },
    {
      "cell_type": "code",
      "metadata": {
        "id": "nHYveuFRXPvm"
      },
      "source": [
        "import urllib.request\n",
        "from bs4 import BeautifulSoup"
      ],
      "execution_count": 2,
      "outputs": []
    },
    {
      "cell_type": "markdown",
      "metadata": {
        "id": "wadMnBiOa_JU"
      },
      "source": [
        "***Extraer el HTML de la página web*** : https://www.yelp.com/biz/milk-and-cream-cereal-bar-new-york?osq=Ice+Cream"
      ]
    },
    {
      "cell_type": "code",
      "metadata": {
        "id": "3NbCMTaRbbM7"
      },
      "source": [
        "url = 'https://www.yelp.com/biz/milk-and-cream-cereal-bar-new-york?osq=Ice+Cream'\n",
        "ourUrl=urllib.request.urlopen(url)\n",
        "soup=BeautifulSoup(ourUrl,'html.parser')\n",
        "print(soup.prettify())"
      ],
      "execution_count": null,
      "outputs": []
    },
    {
      "cell_type": "markdown",
      "metadata": {
        "id": "3eDiIctkdWQA"
      },
      "source": [
        "***Ubica y Scraping las reseñas***"
      ]
    },
    {
      "cell_type": "code",
      "metadata": {
        "id": "fKz8SJeqdVI2",
        "outputId": "8ea4a460-6290-406e-c7c7-bdbab0a92403",
        "colab": {
          "base_uri": "https://localhost:8080/",
          "height": 717
        }
      },
      "source": [
        "review=[]\n",
        "for i in soup.find_all('li',{'class':'lemon--li__373c0__1r9wz margin-b3__373c0__q1DuY padding-b3__373c0__342DA border--bottom__373c0__3qNtD border-color--default__373c0__3-ifU'}):\n",
        "\n",
        "  per_review=i.find(\"div\",{\"class\":\"lemon--div__373c0__1mboc arrange-unit__373c0__o3tjT arrange-unit-grid-column--8__373c0__2dUx_ border-color--default__373c0__3-ifU\"})\n",
        "  per_review=per_review.findAll(\"div\",{\"class\":\"lemon--div__373c0__1mboc margin-b2__373c0__abANL border-color--default__373c0__3-ifU\"})\n",
        "  \n",
        "  if len(review)==11:\n",
        "    per_review=per_review[0].p.span.text\n",
        "  else:\n",
        "    per_review=per_review[1].p.span.text\n",
        "\n",
        "\n",
        "  print(per_review+\"\\n\")\n",
        "  review.append(per_review)"
      ],
      "execution_count": 49,
      "outputs": [
        {
          "output_type": "stream",
          "text": [
            "I love this place! The last time I went was before Covid, but every time I've gone the service is good and the ice cream is always so tasty. I love bringing out of town friends here as its a great fun foodie place to show off.\n",
            "\n",
            "They had a long line on a Friday during COVID-19, most people respected the 6 ft distance but many didn't. The ice cream is delicious and I love the cereal twist.\n",
            "\n",
            "there was a line at the store today (Sunday) with a ~10 wait! the workers wore masks and were patient. the serving size was very generous, the cereal well blended & mixed, the topping crushed and sprinkled on top. the standard order was 1 ice cream base (vanilla/cookie dough), 1 cereal, 1 topping. the cereal they give is a generous amount as I tasted it sufficiently in each bite:) the topping was crushed so fine you couldn't tell what it was sprinkled a thin layer on top of my ice cream, overall delicious:p the vanilla base was not too sweet and didn't overpower the the taste of the cereal & toppings. A gentle reminder to those visiting during COVID - please wear a mask to respect workers and vulnerable populations:)\n",
            "\n",
            "After a nice day at the park, my friend and I decided to go into Chinatown to get some ice cream. We decided on Milk & Cream because it has really good reviews, and when we saw the line we knew the reviews must have been true. Order:- Vanilla ice cream, Oreo cereal, rainbow sprinkles Pros:- Great tasting ice cream - Cute outdoor seating area- Themed ~ Mutant Ninja Turtles theme rn Cons:- Long lines- Your typical pricey, but pretty ice cream Overall: Great tasting ice cream. If you don't like super sweet ice cream, I wouldn't recommend the fruity pebbles. But my oreo ice cream was delicious\n",
            "\n",
            "Ice cream blended with any cereal of your choice is the premise of a business pulled straight out of a sugar fiend's wildest dreams, and here it is come to life. They've really blown up after many media appearances as well as partnerships with Spot Dessert Bar, with influencers like @foodbabyny, and even with Nickelodeon. Their marketing tactics are slick but they actually have a quality product to show for it. My sweet tooth has brought me here on a number of occasions over the years and I've tried everything from their chocolate s'mores galore to their milkshakes.I think what really worked for Milk & Cream is that they were one of the earlier purveyors of dessert made for the Instagram age. Each ice cream swirl is made picture perfectly, replete with cute toppings like teddy grahams and caramel drizzles. There's a bright neon sign up front that people love to take photos in front of. Unlike many other social media dessert playgrounds that lack any substance, the ice cream at Milk & Cream is quite tasty, and you have a long list of choices when it comes to what cereal you want blended into it. Most of the classics are on the menu, and the machine they have to blend the ingredients together does a great job of distributing just the right amount of cereal throughout the ice cream, so each bite is equally satisfying.With every subsequent visit I am finding the ice cream here more and more overly sweet, and it doesn't help that every single cereal choice they have is a very sweet one, almost without exception. It would be nice to have more neutral options like Crispx, plain Cheerios, or even Kix, since the ice cream itself is already very sweet. I realize though they're not catering to palates like mine, as much as I crave sweets, but to people who would gladly make \"there's no such thing as too sweet\" the mantra of their life. If this is you, this is your place.\n",
            "\n",
            "I love this place! Such a cool concept. They have two ice cream flavors, vanilla and cookies and cream and you are allowed to mix in any cereal into the ice cream.They have a new teenage mutant ninja turtles pizza shaped ice cream which is for a limited time only, so the line was was super long (maybe 20 people), but totally worth it.The limited addition ice cream was delicious and I can't wait to go back and get it again before its gone. The people that work there are super nice and friendly and very helpful.IG-@traveleen_gurl\n",
            "\n",
            "I got the limited time nonja turtle ice cream pizza. It was so cute and delicious. Love the creativity they put behind it. But, their ice cream looked amazing as well! Will totally be back to try it !\n",
            "\n",
            "Soft serve ice cream  cereal  thé two combined? !!!!! I was worried the ice cream would be overly sweet like \"cold stone\" but it is nothing like that. I didn't even think I would finish the portion I got and yet I did because it was so damn good! If you are an ice cream person you gotta try this it is just so fun!\n",
            "\n",
            "This was my first time at Milk & Cream Cereal Bar it was such a cute ice cream shop. I got a cup of vanilla cookie dough with lucky charms and fruity pebbles blended with a topping of fruity pebbles. I accidentally forgot to tell them I wanted the fruity pebbles topping and were accommodating and didn't charge me extra for the mistake. Delicious ice cream with a unique and quirky atmosphere!\n",
            "\n",
            "I really enjoy coming here every now and then. They have a really great set up currently, you go to the front and just order your ice cream. They have various cereal options and toppings. I ended up getting the lucky charms ice cream blended with vanilla ice cream and topped it off with rainbow sprinkles . The ice cream was fantastic!\n",
            "\n",
            "Milk & Cream is the type of place with a line outside no matter what time of day it is - especially now that they have a No ha Turtles collab happening. Fortunately, it lives up to the hype! They don't have ice cream cones - only cups - at the moment, which was a bit disappointing, but the Cookie Crisp carnival was still incredible, so I feel comfortable handing out five stars. (I dislike the cornflake ice cream at Milk Bar and was wary of trying more cereal milk ice cream, but this exceeded my expectations.) Can't wait to return!\n",
            "\n",
            "Came here after seeing a news report on ABC 7 and mybf and I fell in love with this place. They have a large variety of cereals and toppings that you can mix and match to your liking. We've been here twice this past week and we're def gonna make this our go to spot for ice cream the next time we're in the area or when the mood strikes.\n",
            "\n",
            "During COVID: I've had Milk & cream on my radar for months now and finally had a chance to stop by. They are open during quarantine. I ordered a vanilla based cone with Cookie Crisp and Reese's puffs with crushed M&M topping (3.5/5). Was it good? Yes. But it wasn't memorable enough for me to crave it again. I also didn't realize that they actually blend the cereal into the ice cream. I do typically like cereal as a topping.My partner got the frooty special cone, which I must admit I was not a fan. Its taste was too much like artificial grape and it's a big minus when I see gummies as a topping on ice cream due to it becoming very hard and unpleasant to eat.I personally like the ice cream at Soft Swerve much more as I love taro ice cream. That being said, if you are looking for an instagramable cereal soft serve fix, this will definitely hit it.\n",
            "\n",
            "Dang this is delicious! The cereal is still crunchy inside the soft serve, how do they do that? There's a system to this: you pick the base + cereal + more cereal dust on top + a drizzle. I went with a vanilla base + captain crunch + fruity pebbles + honey drizzle. My total came out to be $7.5. Nice small outdoor setting outside, no tables or chairs just a designated place to stand around. Would I come back? Heck yah.\n",
            "\n",
            "One of my favorite cereal icecream places. I'm a huge cereal and icecream/froyo fan so I've tried all the ones in the area, including the famous milk bar cereal soft serve. None compare.For starters they have every single cereal you could ever want to make a custom sundae. They grind whatever you choose into the soft serve which truly encompasses the flavor throughout. Then if that wasn't already good enough- you get to add more cereal to the top! (And whatever other toppings you choose)I have also had the pre created sundae combos which are also equally delicious. Ends up costing around $8 but is a large portion (have shared with my sister). I have/ will continue to go back.\n",
            "\n",
            "Love this place. It's great that you have so many choices and combinations when it comes to picking a flavor. My personal favorite is cap n crunch with vanilla topped with banana and toasted coconut. I've been twice so far and the only thing I wish they had were berries, both times they've been unavailable. They do have outdoor seating, which is very nice in the current climate. This place is very popular, so be prepared for a line, but it's worth the wait.\n",
            "\n",
            "Love this place so much. There was a long line but it was relatively quick and easy. Quite pricy for what it is but I would still go again\n",
            "\n",
            "I was expected to found out they open milk bar here, we thought it was milk bar momofoku. So we were disappointed at first. But we ended up order some ice creams anyway. It was delicious and I get to add cereal that I love on my as well.\n",
            "\n",
            "I truly love the idea of make-your-own ice cream so when I heard about this place, it immediately went on my list!We showed up on a warm, weekend evening, so of course, there was a line out the door (literally). But we waited, because that's how bad I wanted to try it.It was seriously difficult coming up with a combination that (1) included everything I wanted but (2) also went well together. I finally picked a combination of cinnamon toast crunch and captain crunch, topped with chocolate cookie crunch and honey drizzle.I thought the ice cream was delicious but somehow the combination did not do anything outstanding. Maybe if I go back I will just choose one of their recommended combinations instead of making my own. I will also return when the hype about this place has settled down and the lines are a bit smaller.\n",
            "\n",
            "OMG this is the best soft serve I've EVER had & that's coming from a loyal ice cream girl. This place is the cutest little shop with modern mint green and gold accents, perfect for your next photoshoot! We sat in the front area and it felt very private despite being right by the doorway. The Froot Berry Bliss -- Absolutely the best bang for your buck!The girl who helped us out recommended this in the green fruity pebble waffle cone and it was DE-LI-CIOUS. You'd think something this fruitilicious would be overwhelming and too sweet but this is something I would definitely come back to NYC just to taste again. It had the perfect balance of fruity and creamy goodness that hits the spot. For $7 you get a heaping swirl of berry-infused soft serve, speckled with gummy bears and dusted with froot loop crumble. This was the perfect after-dinner dessert to share with my boyfriend.I'm not a big fan of soft serve cause I like texture to my frozen desserts, but this is definitely an exception. I could go on for days talking about this place but I'll let you be the judge! If you're in the neighborhood or coming to visit NYC, definitely stop by Milk & Cream!\n",
            "\n"
          ],
          "name": "stdout"
        }
      ]
    },
    {
      "cell_type": "markdown",
      "metadata": {
        "id": "Gt9itVbSlDiZ"
      },
      "source": [
        "**Completar guiandose de:** https://medium.com/@melisa_40349/web-scraping-con-python-gu%C3%ADa-paso-a-paso-d209f0dd44e4 **para scrapear las reseñas de:**https://www.yelp.com/biz/milk-and-cream-cereal-bar-new-york?osq=Ice+Cream"
      ]
    }
  ]
}